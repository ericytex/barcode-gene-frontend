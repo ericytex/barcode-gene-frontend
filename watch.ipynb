!pip install Pillow qrcode[pil]
from PIL import Image, ImageDraw, ImageFont
import qrcode

def generate_device_label():
    # Image dimensions and colors
    width = 800
    height = 400
    background_color = 'white'
    bar_color = 'black'
    text_color = 'black'
    border_radius = 30
    
    # Create image with rounded corners
    img = Image.new('RGB', (width, height), 'black')
    
    # Create rounded rectangle mask
    mask = Image.new('L', (width, height), 0)
    mask_draw = ImageDraw.Draw(mask)
    mask_draw.rounded_rectangle([5, 5, width-5, height-5], radius=border_radius, fill=255)
    
    # Create white background with rounded corners
    background = Image.new('RGB', (width, height), background_color)
    img.paste(background, mask=mask)
    
    draw = ImageDraw.Draw(img)
    
    # Try to load fonts
    try:
        font_large = ImageFont.truetype("arial.ttf", 36)
        font_medium = ImageFont.truetype("arial.ttf", 24)
        font_small = ImageFont.truetype("arial.ttf", 18)
        font_barcode = ImageFont.truetype("arial.ttf", 20)
    except:
        try:
            font_large = ImageFont.load_default()
            font_medium = ImageFont.load_default()
            font_small = ImageFont.load_default()
            font_barcode = ImageFont.load_default()
        except:
            font_large = font_medium = font_small = font_barcode = None
    
    # Draw top text
    draw.text((30, 30), "Model: A669L", fill=text_color, font=font_large)
    draw.text((450, 30), "SAPPHIRE BLACK", fill=text_color, font=font_large)
    
    # Draw 'C' box in top right
    draw.rectangle([720, 25, 760, 65], outline=text_color, width=3)
    draw.text((735, 35), "C", fill=text_color, font=font_large)
    
    # Barcode pattern - Code 128 style (more accurate pattern)
    barcode_pattern = [
        2,1,2,2,2,2,1,1,1,3,2,1,1,1,3,2,1,1,2,2,1,2,1,1,3,1,1,2,1,2,2,1,
        1,3,1,1,1,2,3,1,2,1,1,2,1,3,1,1,2,2,1,2,1,1,3,1,1,2,1,2,2,1,1,3,
        1,1,1,2,3,1,1,2,1,2,2,1,1,3,1,1,2,1,2,2,1,1,3,1,1,2,1,2,1,3,1,1,
        2,1,2,2,1,1,3,1,1,2,1,2,2,1,1,3,1,1,1,2,3,1,2,1,1,2,1,3,1,1,2,2,
        1,2,1,1,3,1,1,2,1,2,2,1,1,3,1,1,1,2,3,1,1,2,1,2,2,1,1,3
    ]
    
    # Draw barcode
    barcode_start_x = 30
    barcode_start_y = 90
    barcode_height = 80
    current_x = barcode_start_x
    bar_width_unit = 2
    
    for i, bar_width in enumerate(barcode_pattern):
        bar_pixel_width = bar_width * bar_width_unit
        
        if i % 2 == 0:  # Black bars
            draw.rectangle([
                current_x, 
                barcode_start_y, 
                current_x + bar_pixel_width - 1, 
                barcode_start_y + barcode_height
            ], fill=bar_color)
        
        current_x += bar_pixel_width
    
    # Draw IMEI text below barcode
    draw.text((30, 180), "IMEI 1:350544301197847", fill=text_color, font=font_barcode)
    
    # Draw VC text
    draw.text((30, 220), "VC:874478", fill=text_color, font=font_medium)
    
    # Draw 64+2 box
    draw.rectangle([450, 200, 550, 240], outline=text_color, width=3)
    draw.text((475, 210), "64+2", fill=text_color, font=font_medium)
    
    # Generate and draw QR code
    qr = qrcode.QRCode(
        version=3,
        error_correction=qrcode.constants.ERROR_CORRECT_L,
        box_size=4,
        border=2,
    )
    # Add some sample data for the QR code
    qr_data = "Model:A669L,IMEI:350544301197847,VC:874478"
    qr.add_data(qr_data)
    qr.make(fit=True)
    
    # Create QR code image
    qr_img = qr.make_image(fill_color="black", back_color="white")
    qr_img = qr_img.resize((150, 150))
    
    # Paste QR code on main image
    qr_x = 600
    qr_y = 150
    img.paste(qr_img, (qr_x, qr_y))
    
    # Draw small squares around QR code (positioning markers style)
    square_size = 15
    # Top left
    draw.rectangle([qr_x - 5, qr_y - 5, qr_x + square_size, qr_y + square_size], 
                  outline=text_color, width=2)
    # Top right  
    draw.rectangle([qr_x + 135, qr_y - 5, qr_x + 155, qr_y + square_size], 
                  outline=text_color, width=2)
    # Bottom left
    draw.rectangle([qr_x - 5, qr_y + 135, qr_x + square_size, qr_y + 155], 
                  outline=text_color, width=2)
    
    return img

def save_device_label(filename="device_label.png"):
    """Generate and save the device label image"""
    img = generate_device_label()
    img.save(filename)
    print(f"Device label saved as {filename}")
    return img

def show_device_label():
    """Generate and display the device label image"""
    img = generate_device_label()
    img.show()
    return img

# Example usage
if __name__ == "__main__":
    # Generate and save the label
    label_img = save_device_label("device_label.png")
    
    # Optionally display it
    # label_img.show()
    
    # You can also customize the data
    print("Label generated successfully!")
    print("The image includes:")
    print("- Model number and color")
    print("- Linear barcode")
    print("- IMEI number") 
    print("- VC code")
    print("- Storage capacity (64+2)")
    print("- QR code with device information")